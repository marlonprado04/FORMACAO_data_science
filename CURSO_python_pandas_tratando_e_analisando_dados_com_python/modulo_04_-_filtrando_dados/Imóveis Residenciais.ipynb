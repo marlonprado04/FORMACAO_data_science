{
 "cells": [
  {
   "cell_type": "markdown",
   "id": "2b2cf611",
   "metadata": {},
   "source": [
    "# Relatório de Análise III"
   ]
  },
  {
   "cell_type": "markdown",
   "id": "ec3c136f",
   "metadata": {},
   "source": [
    "## Imóveis Residênciais"
   ]
  },
  {
   "cell_type": "code",
   "execution_count": null,
   "id": "789ca942",
   "metadata": {},
   "outputs": [],
   "source": [
    "import pandas as pd"
   ]
  },
  {
   "cell_type": "code",
   "execution_count": null,
   "id": "5762d729",
   "metadata": {},
   "outputs": [],
   "source": [
    "dados = pd.read_csv(r\"dados/aluguel.csv\", sep = \";\")"
   ]
  },
  {
   "cell_type": "code",
   "execution_count": null,
   "id": "4f3fd756",
   "metadata": {},
   "outputs": [],
   "source": [
    "dados.head(10)"
   ]
  },
  {
   "cell_type": "code",
   "execution_count": null,
   "id": "0dc1617c",
   "metadata": {},
   "outputs": [],
   "source": [
    "list(dados[\"Tipo\"].drop_duplicates())"
   ]
  },
  {
   "cell_type": "code",
   "execution_count": null,
   "id": "af74b8fc",
   "metadata": {},
   "outputs": [],
   "source": [
    "# Criando uma variável apenas com alugueis do tipo residencial\n",
    "\n",
    "residencial = ['Quitinete',\n",
    " 'Casa',\n",
    " 'Apartamento',\n",
    " 'Casa de Condomínio',\n",
    " 'Casa de Vila']"
   ]
  },
  {
   "cell_type": "code",
   "execution_count": null,
   "id": "99935c5f",
   "metadata": {},
   "outputs": [],
   "source": [
    "residencial"
   ]
  },
  {
   "cell_type": "code",
   "execution_count": null,
   "id": "1964e1c7",
   "metadata": {},
   "outputs": [],
   "source": [
    "dados.head(10)"
   ]
  },
  {
   "cell_type": "code",
   "execution_count": null,
   "id": "4a5e558c",
   "metadata": {},
   "outputs": [],
   "source": [
    "# Aplicando método \"isin\" que faz a verificação\n",
    "# se os valores do dataframe possuem a informação passada\n",
    "# ou não, retornando True ou False. Ou seja, aqui está verificando \n",
    "# e passando quais linhas do data frame são do \"Tipo\" residencial.\n",
    "\n",
    "selecao = dados[\"Tipo\"].isin(residencial)\n",
    "selecao"
   ]
  },
  {
   "cell_type": "code",
   "execution_count": null,
   "id": "e8bca608",
   "metadata": {},
   "outputs": [],
   "source": [
    "# Ao passar a seleção acima para um dataframe\n",
    "# o dataframe mantém apenas os dados que são True\n",
    "# e exclui os que são False.\n",
    "\n",
    "# Esse processo pode ser útil para fazer um drop rápido de\n",
    "# informações inúteis ou que poluem os dados.\n",
    "\n",
    "dados_residencial = dados[selecao]\n",
    "dados_residencial"
   ]
  },
  {
   "cell_type": "code",
   "execution_count": null,
   "id": "df003302",
   "metadata": {},
   "outputs": [],
   "source": [
    "# Verificando se o processo acima funcionou\n",
    "# e sobraram apenas os dados do tipo residencial\n",
    "\n",
    "list(dados_residencial[\"Tipo\"].drop_duplicates())"
   ]
  },
  {
   "cell_type": "code",
   "execution_count": null,
   "id": "daabdf8a",
   "metadata": {},
   "outputs": [],
   "source": [
    "# Fazendo uma breve comparação de quantidade dos dataframes\n",
    "\n",
    "dados_residencial.shape[0]\n"
   ]
  },
  {
   "cell_type": "code",
   "execution_count": null,
   "id": "590679c0",
   "metadata": {},
   "outputs": [],
   "source": [
    "# Fazendo uma breve comparação de quantidade dos dataframes\n",
    "\n",
    "\n",
    "dados.shape[0]"
   ]
  },
  {
   "cell_type": "code",
   "execution_count": null,
   "id": "8dcda661",
   "metadata": {},
   "outputs": [],
   "source": [
    "# Re-atribuindo os index do novo dataframe\n",
    "# pois ao aplicar a seleção lá de cima, o dataframe\n",
    "# manteu o index anterior. \n",
    "\n",
    "\n",
    "dados_residencial.index = range(dados_residencial.shape[0])\n",
    "\n",
    "dados_residencial.head(10)"
   ]
  },
  {
   "cell_type": "code",
   "execution_count": null,
   "id": "8d61c263",
   "metadata": {},
   "outputs": [],
   "source": [
    "# Exercícios da aula\n",
    "\n",
    "\n",
    "\"\"\"import pandas as pd\n",
    "\n",
    "numeros = [i for i in range(11)]\n",
    "letras = [chr(i + 65) for i in range(11)]\n",
    "nome_coluna = ['N']\n",
    "\n",
    "df = pd.DataFrame(data = numeros, index = letras, columns = nome_coluna)\n",
    "\n",
    "df\"\"\"\n",
    "\n",
    "\"\"\"selecao = df['N'].isin([i for i in range(11) if i % 2 == 0])\n",
    "df = df[selecao]\n",
    "df\"\"\""
   ]
  },
  {
   "cell_type": "markdown",
   "id": "e285250c",
   "metadata": {},
   "source": [
    "## Exportando a Base de Dados"
   ]
  },
  {
   "cell_type": "code",
   "execution_count": null,
   "id": "388da899",
   "metadata": {},
   "outputs": [],
   "source": [
    "# Exportando os dados ajustados\n",
    "# para um CSV igual ao inicial\n",
    "\n",
    "dados_residencial.to_csv(\"dados/aluguel_residencial.csv\", sep = \";\")"
   ]
  },
  {
   "cell_type": "code",
   "execution_count": null,
   "id": "be29396a",
   "metadata": {},
   "outputs": [],
   "source": [
    "# Atribuindo o novo arquivo\n",
    "# para uma variável pra ver se deu tudo certo\n",
    "\n",
    "dados_residencial_2 = pd.read_csv(\"dados/aluguel_residencial.csv\", sep = \";\")"
   ]
  },
  {
   "cell_type": "code",
   "execution_count": null,
   "id": "57014f41",
   "metadata": {},
   "outputs": [],
   "source": [
    "# Abrindo nova variável\n",
    "\n",
    "# OBS: Como ao exportar nós não informamos que\n",
    "# não queriamos o índice, o pandas exportou o índice como\n",
    "# se fosse uma coluna.\n",
    "\n",
    "dados_residencial_2.head()"
   ]
  },
  {
   "cell_type": "code",
   "execution_count": null,
   "id": "b863ff01",
   "metadata": {},
   "outputs": [],
   "source": [
    "# Para ler a documentação dentro do Jupyter é só apertar \"SHIFT + TAB\"\n",
    "# dentro da operação\n",
    "\n",
    "# Corrigindo o documento salvo acima, desta vez sem o index\n",
    "\n",
    "dados_residencial.to_csv(\"dados/aluguel_residencial.csv\", sep = \";\", index = False)"
   ]
  },
  {
   "cell_type": "code",
   "execution_count": null,
   "id": "52aa7a40",
   "metadata": {},
   "outputs": [],
   "source": [
    "# Atribuindo e abrindo variável para testar\n",
    "\n",
    "dados_residencial_2 = pd.read_csv(\"dados/aluguel_residencial.csv\", sep = \";\")\n",
    "\n",
    "dados_residencial_2"
   ]
  },
  {
   "cell_type": "code",
   "execution_count": null,
   "id": "8b5dd686",
   "metadata": {},
   "outputs": [],
   "source": []
  }
 ],
 "metadata": {
  "kernelspec": {
   "display_name": "Python 3 (ipykernel)",
   "language": "python",
   "name": "python3"
  },
  "language_info": {
   "codemirror_mode": {
    "name": "ipython",
    "version": 3
   },
   "file_extension": ".py",
   "mimetype": "text/x-python",
   "name": "python",
   "nbconvert_exporter": "python",
   "pygments_lexer": "ipython3",
   "version": "3.9.12"
  }
 },
 "nbformat": 4,
 "nbformat_minor": 5
}
